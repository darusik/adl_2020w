{
 "cells": [
  {
   "cell_type": "code",
   "execution_count": null,
   "metadata": {},
   "outputs": [],
   "source": [
    "%load_ext autoreload\n",
    "%autoreload 2"
   ]
  },
  {
   "cell_type": "code",
   "execution_count": null,
   "metadata": {},
   "outputs": [],
   "source": [
    "%run Mask-Utils.ipynb"
   ]
  },
  {
   "cell_type": "code",
   "execution_count": null,
   "metadata": {},
   "outputs": [],
   "source": [
    "TEXTURE_SIZE = 400"
   ]
  },
  {
   "cell_type": "code",
   "execution_count": null,
   "metadata": {},
   "outputs": [],
   "source": [
    "face_boxes, tddfa = load_models()\n"
   ]
  },
  {
   "cell_type": "code",
   "execution_count": null,
   "metadata": {},
   "outputs": [],
   "source": [
    "predictor = get_vertices_predictor(face_boxes, tddfa, is_cropped=True)"
   ]
  },
  {
   "cell_type": "markdown",
   "metadata": {},
   "source": [
    "___"
   ]
  },
  {
   "cell_type": "code",
   "execution_count": null,
   "metadata": {},
   "outputs": [],
   "source": [
    "from skimage.io import imread\n",
    "\n",
    "# test_image_url = 'https://avatars.mds.yandex.net/get-kinopoisk-post-img/2423210/6fa756128b42aa4553fd3f64339b2748/960x540'\n",
    "# test_image_url = 'https://i.pinimg.com/736x/ce/1a/d0/ce1ad006c5969585e2bc0609a9981dae.jpg'\n",
    "test_image_url = 'https://upload.wikimedia.org/wikipedia/commons/6/6c/Lionel_Messi_in_2018.jpg'\n",
    "# test_image_url = 'https://previews.123rf.com/images/bowie15/bowie151310/bowie15131000036/22756898-screaming-shouting-man.jpg'\n",
    "# test_image_url = 'https://westcottu.com/wp-content/uploads/robert_close.jpg'\n",
    "# test_image_url = 'https://cdn.profoto.com/cdn/0521445/contentassets/b61cf60b567f46ac9a274c3f87a5bcb1/portrait_technique_0002.jpg'\n",
    "# test_image_url = 'https://as1.ftcdn.net/jpg/02/54/74/14/500_F_254741496_XqAP4hpIpL2miUfziPBEXvxsFTMzr3PE.jpg'\n",
    "# test_image_url = 'https://i.etsystatic.com/15323487/d/il/b394b9/2610037605/il_340x270.2610037605_c2hz.jpg?version=0'\n",
    "# test_image_url = 'https://i.pinimg.com/originals/b1/d4/b8/b1d4b854b2aa9fe9b6884a2bd8e11125.jpg'\n",
    "# test_image_url = 'https://www.hopkinsmedicalproducts.com/images/xxl/Medical-Grade-Mask.jpg'\n",
    "# test_image_url = 'https://images-na.ssl-images-amazon.com/images/I/719krZoENLL._AC_SY679_.jpg'\n",
    "# test_image_url = 'https://www.meaok.com/media/catalog/product/cache/1c79e4ec97fce480fc1866d4e428246e/p/f/pf07375_pri03.jpg'\n",
    "\n",
    "\n",
    "test_image = np.ascontiguousarray(imread(test_image_url)[..., ::-1])\n",
    "imshow(test_image)"
   ]
  },
  {
   "cell_type": "code",
   "execution_count": null,
   "metadata": {},
   "outputs": [],
   "source": [
    "%time ver = predictor(test_image)\n",
    "ver"
   ]
  },
  {
   "cell_type": "code",
   "execution_count": null,
   "metadata": {},
   "outputs": [],
   "source": [
    "texture = uv_tex(test_image, [ver], tddfa.tri, uv_h=TEXTURE_SIZE, uv_w=TEXTURE_SIZE)\n",
    "imshow(texture)"
   ]
  },
  {
   "cell_type": "code",
   "execution_count": null,
   "metadata": {},
   "outputs": [],
   "source": [
    "%time uv_coords = get_uv_coords(TEXTURE_SIZE)\n",
    "uv_coords.shape"
   ]
  },
  {
   "cell_type": "code",
   "execution_count": null,
   "metadata": {},
   "outputs": [],
   "source": [
    "%time uv2ver_sparse = get_sparse_uv2ver(uv_coords, TEXTURE_SIZE, ver)"
   ]
  },
  {
   "cell_type": "code",
   "execution_count": null,
   "metadata": {},
   "outputs": [],
   "source": [
    "cached_linear_nd_creator = CachedInterpolatorCreator(interpolate.LinearNDInterpolator)"
   ]
  },
  {
   "cell_type": "code",
   "execution_count": null,
   "metadata": {},
   "outputs": [],
   "source": [
    "# dense\n",
    "%time uv2ver = inpaint(uv2ver_sparse, \\\n",
    "                 mask=np.isnan(uv2ver_sparse).astype(np.uint8), \\\n",
    "                 interpolator_cls=cached_linear_nd_creator)"
   ]
  },
  {
   "cell_type": "code",
   "execution_count": null,
   "metadata": {},
   "outputs": [],
   "source": [
    "show_channelwise(uv2ver_sparse)\n",
    "show_channelwise(uv2ver)"
   ]
  },
  {
   "cell_type": "code",
   "execution_count": null,
   "metadata": {},
   "outputs": [],
   "source": [
    "%time face_indicator = get_face_indicator(uv2ver)\n",
    "pltshow(face_indicator)"
   ]
  },
  {
   "cell_type": "code",
   "execution_count": null,
   "metadata": {},
   "outputs": [],
   "source": [
    "# %time convex_uv2ver_sparse = get_almost_convex_sparse_uv2ver(ver, uv2ver, face_indicator)"
   ]
  },
  {
   "cell_type": "code",
   "execution_count": null,
   "metadata": {},
   "outputs": [],
   "source": [
    "%time convexer = FixedConvexer(ver, uv_coords, face_indicator, uv2ver)"
   ]
  },
  {
   "cell_type": "code",
   "execution_count": null,
   "metadata": {},
   "outputs": [],
   "source": [
    "%time convex_uv2ver_sparse = convexer(uv2ver)"
   ]
  },
  {
   "cell_type": "code",
   "execution_count": null,
   "metadata": {},
   "outputs": [],
   "source": [
    "cached_linear_nd_ext_creator = CachedInterpolatorCreator(LinearNDInterpolatorExt)"
   ]
  },
  {
   "cell_type": "code",
   "execution_count": null,
   "metadata": {},
   "outputs": [],
   "source": [
    "%time convex_uv2ver = inpaint(convex_uv2ver_sparse, \\\n",
    "                        mask=np.isnan(convex_uv2ver_sparse).astype(np.uint8), \\\n",
    "                        interpolator_cls=cached_linear_nd_ext_creator)"
   ]
  },
  {
   "cell_type": "code",
   "execution_count": null,
   "metadata": {},
   "outputs": [],
   "source": [
    "show_channelwise(convex_uv2ver_sparse)\n",
    "show_channelwise(convex_uv2ver)"
   ]
  },
  {
   "cell_type": "code",
   "execution_count": null,
   "metadata": {},
   "outputs": [],
   "source": [
    "blurred_convex_uv2ver = blur_multichannel(convex_uv2ver, sigma=(2.5, 5.0), mode='nearest')\n",
    "show_channelwise(blurred_convex_uv2ver)"
   ]
  },
  {
   "cell_type": "code",
   "execution_count": null,
   "metadata": {},
   "outputs": [],
   "source": [
    "blur_mix_weights = get_blur_weights(convex_uv2ver.shape)[..., None]\n",
    "show_channelwise(blur_mix_weights)"
   ]
  },
  {
   "cell_type": "code",
   "execution_count": null,
   "metadata": {},
   "outputs": [],
   "source": [
    "convex_uv2ver = convex_uv2ver * (1.0 - blur_mix_weights) + blurred_convex_uv2ver * blur_mix_weights\n",
    "show_channelwise(convex_uv2ver)"
   ]
  },
  {
   "cell_type": "code",
   "execution_count": null,
   "metadata": {},
   "outputs": [],
   "source": [
    "%time convex_mesh = get_mesh(convex_uv2ver, face_indicator, TEXTURE_SIZE, TEXTURE_SIZE)"
   ]
  },
  {
   "cell_type": "markdown",
   "metadata": {},
   "source": [
    "___"
   ]
  },
  {
   "cell_type": "code",
   "execution_count": null,
   "metadata": {},
   "outputs": [],
   "source": [
    "%time visible_skin = get_visible_skin(uv2ver)\n",
    "pltshow(np.where(visible_skin[..., None] == 1, texture / 255.0, np.nan))"
   ]
  },
  {
   "cell_type": "code",
   "execution_count": null,
   "metadata": {},
   "outputs": [],
   "source": [
    "%time target_lightness_ratio = get_cheeks_lightness_ratio(texture, visible_skin)\n",
    "target_lightness_ratio"
   ]
  },
  {
   "cell_type": "code",
   "execution_count": null,
   "metadata": {},
   "outputs": [],
   "source": [
    "%time light_x = find_light_x_position( \\\n",
    "    target_lightness_ratio, \\\n",
    "    uv_coords, ver, tddfa.tri, texture, visible_skin, \\\n",
    "    render_app, test_image.shape, \\\n",
    ")\n",
    "light_x"
   ]
  },
  {
   "cell_type": "markdown",
   "metadata": {},
   "source": [
    "___"
   ]
  },
  {
   "cell_type": "code",
   "execution_count": null,
   "metadata": {},
   "outputs": [],
   "source": [
    "from random import choice\n",
    "\n",
    "facecover_path = choice(['flat_mask.png',\n",
    "                         'flat_mask_circular.png',\n",
    "                         'flat_mask_slipknot.png',\n",
    "                         'flat_mask_white.png',\n",
    "                         'flat_mask_green.png',\n",
    "                         'flat_mask_red.png',\n",
    "                         'flat_mask_black.png',\n",
    "                         ])\n",
    "\n",
    "facecover_texture = cv2.imread(f'masks/{facecover_path}', cv2.IMREAD_UNCHANGED).astype(np.float32) / 255.0\n",
    "pltshow(facecover_texture)"
   ]
  },
  {
   "cell_type": "code",
   "execution_count": null,
   "metadata": {},
   "outputs": [],
   "source": [
    "%time facecover = FacecoverTextureWarper()(facecover_texture, texture.shape[0])\n",
    "pltshow(facecover)"
   ]
  },
  {
   "cell_type": "code",
   "execution_count": null,
   "metadata": {},
   "outputs": [],
   "source": [
    "%time facecover_tr = facecover_color_transfer(facecover, texture)\n",
    "show_channelwise([facecover, facecover_tr])"
   ]
  },
  {
   "cell_type": "code",
   "execution_count": null,
   "metadata": {},
   "outputs": [],
   "source": [
    "facecover_tr[..., :3] = blur_multichannel(facecover_tr[..., :3], sigma=(1.5, 1.5), mode='nearest')\n",
    "facecover_tr[..., -1:] = blur_multichannel(facecover_tr[..., -1:], sigma=(1.5, 1.5), mode='nearest')\n",
    "\n",
    "show_channelwise([facecover_tr])"
   ]
  },
  {
   "cell_type": "code",
   "execution_count": null,
   "metadata": {},
   "outputs": [],
   "source": [
    "%time update_colors(convex_mesh, facecover_tr)"
   ]
  },
  {
   "cell_type": "code",
   "execution_count": null,
   "metadata": {},
   "outputs": [],
   "source": [
    "ambient_w, direct_w = get_lightning_params(target_lightness_ratio, light_x, facecover_tr)\n",
    "ambient_w, direct_w"
   ]
  },
  {
   "cell_type": "code",
   "execution_count": null,
   "metadata": {},
   "outputs": [],
   "source": [
    "%time facecover_render, alpha_render, prefinal_render, final_render = render_facecover( \\\n",
    "    render_app, convex_mesh, test_image, light_x, ambient_w, direct_w, return_intermediate=True \\\n",
    ")"
   ]
  },
  {
   "cell_type": "code",
   "execution_count": null,
   "metadata": {},
   "outputs": [],
   "source": [
    "show_channelwise([facecover_render / 255.0, alpha_render ])"
   ]
  },
  {
   "cell_type": "code",
   "execution_count": null,
   "metadata": {},
   "outputs": [],
   "source": [
    "imshow(prefinal_render)"
   ]
  },
  {
   "cell_type": "code",
   "execution_count": null,
   "metadata": {},
   "outputs": [],
   "source": [
    "imshow(final_render)"
   ]
  },
  {
   "cell_type": "code",
   "execution_count": null,
   "metadata": {},
   "outputs": [],
   "source": []
  },
  {
   "cell_type": "code",
   "execution_count": null,
   "metadata": {},
   "outputs": [],
   "source": []
  },
  {
   "cell_type": "code",
   "execution_count": null,
   "metadata": {},
   "outputs": [],
   "source": []
  },
  {
   "cell_type": "code",
   "execution_count": null,
   "metadata": {},
   "outputs": [],
   "source": []
  }
 ],
 "metadata": {
  "kernelspec": {
   "display_name": "pytorch",
   "language": "python",
   "name": "pytorch"
  },
  "language_info": {
   "codemirror_mode": {
    "name": "ipython",
    "version": 3
   },
   "file_extension": ".py",
   "mimetype": "text/x-python",
   "name": "python",
   "nbconvert_exporter": "python",
   "pygments_lexer": "ipython3",
   "version": "3.8.3"
  }
 },
 "nbformat": 4,
 "nbformat_minor": 4
}
