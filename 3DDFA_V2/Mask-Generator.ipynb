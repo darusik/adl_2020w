{
 "cells": [
  {
   "cell_type": "code",
   "execution_count": 1,
   "metadata": {},
   "outputs": [],
   "source": [
    "%load_ext autoreload\n",
    "%autoreload 2"
   ]
  },
  {
   "cell_type": "code",
   "execution_count": 2,
   "metadata": {},
   "outputs": [
    {
     "name": "stdout",
     "output_type": "stream",
     "text": [
      "The autoreload extension is already loaded. To reload it, use:\n",
      "  %reload_ext autoreload\n"
     ]
    }
   ],
   "source": [
    "%run Mask-Utils.ipynb"
   ]
  },
  {
   "cell_type": "code",
   "execution_count": 3,
   "metadata": {},
   "outputs": [],
   "source": [
    "from pathlib import Path\n",
    "\n",
    "from tqdm import trange"
   ]
  },
  {
   "cell_type": "code",
   "execution_count": 4,
   "metadata": {},
   "outputs": [],
   "source": [
    "TEXTURE_SIZE = 400"
   ]
  },
  {
   "cell_type": "code",
   "execution_count": 5,
   "metadata": {},
   "outputs": [],
   "source": [
    "face_boxes, tddfa = load_models()"
   ]
  },
  {
   "cell_type": "code",
   "execution_count": 6,
   "metadata": {},
   "outputs": [],
   "source": [
    "predictor = get_vertices_predictor(face_boxes, tddfa, is_cropped=True)"
   ]
  },
  {
   "cell_type": "code",
   "execution_count": 7,
   "metadata": {},
   "outputs": [
    {
     "data": {
      "text/plain": [
       "20"
      ]
     },
     "execution_count": 7,
     "metadata": {},
     "output_type": "execute_result"
    }
   ],
   "source": [
    "FACECOVER_PATHS = list(sorted(str(p) for p in Path('masks/').glob('*.png')))\n",
    "len(FACECOVER_PATHS)"
   ]
  },
  {
   "cell_type": "code",
   "execution_count": 8,
   "metadata": {},
   "outputs": [],
   "source": [
    "FACECOVER_IMAGES = [cv2.imread(p, cv2.IMREAD_UNCHANGED).astype(np.float32) / 255.0\n",
    "                    for p in FACECOVER_PATHS]"
   ]
  },
  {
   "cell_type": "code",
   "execution_count": 9,
   "metadata": {},
   "outputs": [],
   "source": [
    "def blur_facecover(facecover):\n",
    "    facecover = facecover.copy()\n",
    "    \n",
    "    solid = facecover[..., :3]\n",
    "    alpha = facecover[..., -1]\n",
    "\n",
    "    for c in range(3):\n",
    "        solid[..., c][alpha < 0.1] = np.mean(solid[..., c][alpha > 0.1])\n",
    "    \n",
    "    facecover[..., :3] = blur_multichannel(facecover[..., :3], sigma=2.5, mode='nearest')\n",
    "    facecover[..., -1:] = blur_multichannel(facecover[..., -1:], sigma=2.5, mode='constant')\n",
    "    return facecover"
   ]
  },
  {
   "cell_type": "code",
   "execution_count": 10,
   "metadata": {},
   "outputs": [
    {
     "name": "stderr",
     "output_type": "stream",
     "text": [
      "100%|██████████| 100/100 [01:04<00:00,  1.54it/s]\n"
     ]
    }
   ],
   "source": [
    "FACECOVER_TEXTURES = [blur_facecover(\n",
    "        FacecoverTextureWarper()(FACECOVER_IMAGES[i % len(FACECOVER_IMAGES)], TEXTURE_SIZE)\n",
    "    ) for i in trange(100)]"
   ]
  },
  {
   "cell_type": "code",
   "execution_count": 11,
   "metadata": {},
   "outputs": [],
   "source": [
    "cached_linear_nd_creator = CachedInterpolatorCreator(interpolate.LinearNDInterpolator)\n",
    "cached_linear_nd_ext_creator = CachedInterpolatorCreator(LinearNDInterpolatorExt)"
   ]
  },
  {
   "cell_type": "code",
   "execution_count": 12,
   "metadata": {},
   "outputs": [],
   "source": [
    "face_indicator = None\n",
    "convexer = None\n",
    "blur_mix_weights = None"
   ]
  },
  {
   "cell_type": "markdown",
   "metadata": {},
   "source": [
    "___"
   ]
  },
  {
   "cell_type": "code",
   "execution_count": 13,
   "metadata": {},
   "outputs": [
    {
     "name": "stderr",
     "output_type": "stream",
     "text": [
      "100%|██████████| 13234/13234 [12:19<00:00, 17.89it/s]  \n"
     ]
    }
   ],
   "source": [
    "from skimage.io import imread\n",
    "from random import choice\n",
    "from tqdm import tqdm\n",
    "\n",
    "paths = Path('~/datasets/lfw/lfw_mtcnnpy_160').expanduser().glob('**/*_0*.*')\n",
    "\n",
    "for i, path in tqdm(list(enumerate(paths))):\n",
    "    image_path = str(path)\n",
    "\n",
    "    new_image_path = image_path.replace(\"_0\", \"_1\")\n",
    "    if Path(new_image_path).is_file():\n",
    "        continue\n",
    "    \n",
    "    image = cv2.imread(image_path)\n",
    "    if image is None:\n",
    "        continue\n",
    "    \n",
    "    ver = predictor(image)\n",
    "    texture = uv_tex(image, [ver], tddfa.tri, uv_h=TEXTURE_SIZE, uv_w=TEXTURE_SIZE)\n",
    "\n",
    "    uv_coords = get_uv_coords(TEXTURE_SIZE)\n",
    "    uv2ver_sparse = get_sparse_uv2ver(uv_coords, TEXTURE_SIZE, ver)\n",
    "    uv2ver = inpaint(uv2ver_sparse,\n",
    "                     mask=np.isnan(uv2ver_sparse).astype(np.uint8),\n",
    "                     interpolator_cls=cached_linear_nd_creator)\n",
    "\n",
    "    if face_indicator is None:\n",
    "        face_indicator = get_face_indicator(uv2ver)\n",
    "    if convexer is None:\n",
    "        convexer = FixedConvexer(ver, uv_coords, face_indicator, uv2ver)\n",
    "    \n",
    "    convex_uv2ver_sparse = convexer(uv2ver)\n",
    "    convex_uv2ver = inpaint(convex_uv2ver_sparse,\n",
    "                            mask=np.isnan(convex_uv2ver_sparse).astype(np.uint8),\n",
    "                            interpolator_cls=cached_linear_nd_ext_creator)\n",
    "\n",
    "    if blur_mix_weights is None:\n",
    "        blur_mix_weights = get_blur_weights(convex_uv2ver.shape)[..., None]\n",
    "    \n",
    "    blurred_convex_uv2ver = blur_multichannel(convex_uv2ver, sigma=(2.5, 5.0), mode='nearest')\n",
    "    convex_uv2ver = convex_uv2ver * (1.0 - blur_mix_weights) + blurred_convex_uv2ver * blur_mix_weights\n",
    "    \n",
    "    convex_mesh = get_mesh(convex_uv2ver, face_indicator, TEXTURE_SIZE, TEXTURE_SIZE)\n",
    "    \n",
    "    visible_skin = get_visible_skin(uv2ver)\n",
    "    target_lightness_ratio = get_cheeks_lightness_ratio(texture, visible_skin)\n",
    "    light_x = find_light_x_position(\n",
    "        target_lightness_ratio,\n",
    "        uv_coords, ver, tddfa.tri, texture, visible_skin,\n",
    "        render_app, image.shape,\n",
    "    )\n",
    "\n",
    "    facecover = FACECOVER_TEXTURES[i % len(FACECOVER_TEXTURES)].copy()\n",
    "    facecover_tr = facecover_color_transfer(facecover, texture)\n",
    "    update_colors(convex_mesh, facecover_tr)\n",
    "\n",
    "    ambient_w, direct_w = get_lightning_params(target_lightness_ratio, light_x, facecover_tr)\n",
    "    \n",
    "    final_render = render_facecover(\n",
    "        render_app, convex_mesh, image, light_x, ambient_w, direct_w, return_intermediate=False\n",
    "    )     \n",
    "    cv2.imwrite(new_image_path, final_render)"
   ]
  },
  {
   "cell_type": "code",
   "execution_count": null,
   "metadata": {},
   "outputs": [],
   "source": []
  }
 ],
 "metadata": {
  "kernelspec": {
   "display_name": "pytorch",
   "language": "python",
   "name": "pytorch"
  },
  "language_info": {
   "codemirror_mode": {
    "name": "ipython",
    "version": 3
   },
   "file_extension": ".py",
   "mimetype": "text/x-python",
   "name": "python",
   "nbconvert_exporter": "python",
   "pygments_lexer": "ipython3",
   "version": "3.8.3"
  }
 },
 "nbformat": 4,
 "nbformat_minor": 4
}
